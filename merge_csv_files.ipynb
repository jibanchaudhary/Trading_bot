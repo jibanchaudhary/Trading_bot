{
 "cells": [
  {
   "cell_type": "code",
   "execution_count": null,
   "metadata": {},
   "outputs": [],
   "source": [
    "import glob\n",
    "import os\n",
    "import pandas as pd\n",
    "\n",
    "input_folder_path = \"/Users/jibanchaudhary/Documents/Projects/trading_project/chart_data/\"\n",
    "files_path_list = glob.glob(input_folder_path+\"*.csv\")\n",
    "print(files_path_list)\n"
   ]
  },
  {
   "cell_type": "code",
   "execution_count": null,
   "metadata": {},
   "outputs": [],
   "source": [
    "merged_data = pd.DataFrame()\n",
    "\n",
    "for files in files_path_list:\n",
    "    if os.stat(files).st_size == 0:\n",
    "        print(files)\n",
    "        continue\n",
    "    try:\n",
    "        df = pd.read_csv(files)\n",
    "        stock_name = os.path.splitext(os.path.basename(files))[0]\n",
    "        df['Stock'] = stock_name\n",
    "        merged_data = pd.concat([merged_data, df],ignore_index= True)\n",
    "    except pd.errors.EmptyDataError:\n",
    "        print(files)\n",
    "        continue\n",
    "    except Exception as e:\n",
    "        print(f\"Exception encountered::{e}\")\n",
    "        continue\n",
    "\n",
    "output_file = \"/Users/jibanchaudhary/Documents/Projects/trading_project/chart_data/merged_data.csv\"\n",
    "merged_data.to_csv(output_file, index=False)\n",
    "print(\"SUCCESSFUL\")\n",
    "\n",
    "\n"
   ]
  },
  {
   "cell_type": "code",
   "execution_count": null,
   "metadata": {},
   "outputs": [],
   "source": []
  }
 ],
 "metadata": {
  "kernelspec": {
   "display_name": "venv",
   "language": "python",
   "name": "python3"
  },
  "language_info": {
   "codemirror_mode": {
    "name": "ipython",
    "version": 3
   },
   "file_extension": ".py",
   "mimetype": "text/x-python",
   "name": "python",
   "nbconvert_exporter": "python",
   "pygments_lexer": "ipython3",
   "version": "3.12.3"
  }
 },
 "nbformat": 4,
 "nbformat_minor": 2
}
