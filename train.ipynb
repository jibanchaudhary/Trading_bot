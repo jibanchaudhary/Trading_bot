{
  "cells": [
    {
      "cell_type": "code",
      "execution_count": 1,
      "id": "c09a2747",
      "metadata": {
        "id": "c09a2747"
      },
      "outputs": [],
      "source": [
        "import numpy as np\n",
        "import pandas as pd\n",
        "import yfinance as yf\n",
        "# import pandas_ta as ta\n",
        "from sklearn.preprocessing import MinMaxScaler\n",
        "from sklearn.metrics import classification_report, confusion_matrix\n",
        "from tensorflow import keras\n",
        "from tensorflow.keras.models import Sequential\n",
        "from tensorflow.keras.layers import LSTM,Dense,Dropout,Bidirectional\n",
        "import matplotlib.pyplot as plt\n",
        "import keras_tuner as kt\n",
        "import tensorflow as tf\n",
        "import seaborn as sns\n",
        "import h5py\n",
        "from tqdm import tqdm"
      ]
    },
    {
      "cell_type": "markdown",
      "id": "8d451bdc",
      "metadata": {
        "id": "8d451bdc"
      },
      "source": [
        "# Loading CSV data\n"
      ]
    },
    {
      "cell_type": "code",
      "execution_count": null,
      "id": "ddddf750",
      "metadata": {
        "id": "ddddf750"
      },
      "outputs": [],
      "source": [
        "time_steps = 60"
      ]
    },
    {
      "cell_type": "code",
      "execution_count": null,
      "id": "c6358526",
      "metadata": {
        "id": "c6358526"
      },
      "outputs": [],
      "source": [
        "csv_path = \"/Users/jibanchaudhary/Documents/Projects/Trading_bot/merged_dataset.csv\"\n",
        "\n",
        "print(\"Loading csv data....\")\n",
        "\n",
        "df = pd.read_csv(csv_path)\n",
        "df.sort_values(['Stock','Date'], inplace=True)\n",
        "df.reset_index(drop=True, inplace=True)\n",
        "df[:10]"
      ]
    },
    {
      "cell_type": "markdown",
      "id": "077fe34d",
      "metadata": {
        "id": "077fe34d"
      },
      "source": [
        "#Encoding stock identity"
      ]
    },
    {
      "cell_type": "code",
      "execution_count": null,
      "id": "ae4bc5a1",
      "metadata": {
        "id": "ae4bc5a1"
      },
      "outputs": [],
      "source": [
        "# df['stock_id'] = df['Stock'].astype('category').cat.codes\n",
        "stock_dummies = pd.get_dummies(df['Stock'], prefix='Stock')\n",
        "df = pd.concat([df, stock_dummies],axis=1)\n",
        "numeric_columns = ['Close','% Change','High','Low','Open','Qty.','Turnover']\n",
        "for col in numeric_columns:\n",
        "    df[col] = df[col].astype(str).str.replace(',','',regex=False).astype(float)\n",
        "df"
      ]
    },
    {
      "cell_type": "markdown",
      "id": "5448093d",
      "metadata": {
        "id": "5448093d"
      },
      "source": [
        "# Technical indicators"
      ]
    },
    {
      "cell_type": "code",
      "execution_count": null,
      "id": "06d922dd",
      "metadata": {
        "id": "06d922dd"
      },
      "outputs": [],
      "source": [
        "df_list = []\n",
        "for stock, group in df.groupby('Stock'):\n",
        "    group = group.copy()\n",
        "    group.ta.sma(length=20, append=True)\n",
        "    group.ta.ema(length=50, append=True)\n",
        "    group.ta.rsi(length=14, append=True)\n",
        "    group.ta.macd(fast=12, slow=26, signal=9, append=True)\n",
        "    group.ta.bbands(length=20, append=True)\n",
        "\n",
        "\n",
        "    if 'SMA_20' not in group.columns or 'EMA_50' not in group.columns:\n",
        "        continue\n",
        "    group['Signal'] = 0\n",
        "    group.loc[group['SMA_20'] > group['EMA_50'], 'Signal'] = 2\n",
        "    group.loc[group['SMA_20'] < group['EMA_50'], 'Signal'] = 0\n",
        "    group['Signal'] = np.where((group['Signal'] == 0) & (group['Signal'].shift(1) != 0), 1, group['Signal'])\n",
        "    group['Signal'] = group['Signal'].replace(to_replace=0, method='ffill')\n",
        "    group.loc[group['Signal'] == 0, 'Signal'] = 1\n",
        "\n",
        "    group['Target'] = group['Signal'].shift(-1)\n",
        "    df_list.append(group)\n",
        "\n",
        "df = pd.concat(df_list)\n",
        "df.dropna(inplace=True)\n",
        "df"
      ]
    },
    {
      "cell_type": "code",
      "execution_count": null,
      "id": "4b452e61",
      "metadata": {
        "id": "4b452e61"
      },
      "outputs": [],
      "source": [
        "df_list[:10]"
      ]
    },
    {
      "cell_type": "code",
      "execution_count": null,
      "id": "ae5e152d",
      "metadata": {
        "id": "ae5e152d"
      },
      "outputs": [],
      "source": [
        "stock_one_hot_cols = [col for col in df.columns if col.startswith('Stock_')]\n",
        "import json\n",
        "with open(\"stock_one_hot_cols.json\", \"w\") as f:\n",
        "    json.dump(stock_one_hot_cols, f)\n",
        "feature_cols = ['Close', 'High', 'Low', 'Open'] + stock_one_hot_cols + [\n",
        "    'SMA_20', 'EMA_50', 'RSI_14',\n",
        "    'MACD_12_26_9', 'MACDs_12_26_9', 'MACDh_12_26_9',\n",
        "    'BBL_20_2.0', 'BBM_20_2.0', 'BBU_20_2.0', 'BBB_20_2.0', 'BBP_20_2.0']\n",
        "\n",
        "scaler = MinMaxScaler()\n",
        "x_all,y_all = [],[]\n",
        "\n",
        "feature_cols"
      ]
    },
    {
      "cell_type": "code",
      "execution_count": null,
      "id": "3b6088dc",
      "metadata": {
        "id": "3b6088dc"
      },
      "outputs": [],
      "source": [
        "len(feature_cols)"
      ]
    },
    {
      "cell_type": "markdown",
      "id": "c60a448e",
      "metadata": {
        "id": "c60a448e"
      },
      "source": [
        "# Sliding window for 60 days\n"
      ]
    },
    {
      "cell_type": "code",
      "execution_count": null,
      "id": "15b17c0c",
      "metadata": {
        "id": "15b17c0c"
      },
      "outputs": [],
      "source": [
        "def sliding_data(data, target, time_steps=60):\n",
        "    num_samples = len(data) - time_steps\n",
        "    print(f\"Length of data : {len(data)}\")\n",
        "    print(f\"No of samples : {num_samples}\")\n",
        "    if num_samples < 61:\n",
        "        return np.array([]),np.array([])\n",
        "\n",
        "    x= np.zeros((num_samples,time_steps,data.shape[1]),dtype=np.float32)\n",
        "    y= np.zeros((num_samples,),dtype=np.float32)\n",
        "    for i in range(num_samples):\n",
        "        x[i] = data[i:i+time_steps]\n",
        "        y[i] = target[i+time_steps]\n",
        "    return x,y"
      ]
    },
    {
      "cell_type": "markdown",
      "id": "e7d70a94",
      "metadata": {
        "id": "e7d70a94"
      },
      "source": [
        "#Debugging only\n"
      ]
    },
    {
      "cell_type": "code",
      "execution_count": null,
      "id": "ad87c720",
      "metadata": {
        "id": "ad87c720"
      },
      "outputs": [],
      "source": [
        "# stock_names = sorted(df['Stock'].unique())\n",
        "# print(stock_names)\n",
        "group = df[df['Stock']==\"CREST\"]\n",
        "print(group)\n",
        "# print(group.shape)\n",
        "features = scaler.fit_transform(group[feature_cols])\n",
        "# features.shape\n",
        "# print(len(features))"
      ]
    },
    {
      "cell_type": "markdown",
      "id": "c13b33ab",
      "metadata": {
        "id": "c13b33ab"
      },
      "source": [
        "# Creating h5 file list for each stock"
      ]
    },
    {
      "cell_type": "code",
      "execution_count": null,
      "id": "ed27c5c1",
      "metadata": {
        "id": "ed27c5c1"
      },
      "outputs": [],
      "source": [
        "with h5py.File('Stock_dataset.h5','w') as h5f:\n",
        "    stock_names = sorted(df['Stock'].unique())\n",
        "\n",
        "    for stock in tqdm(stock_names, desc=\"Processing stocks\"):\n",
        "        tqdm.write(f\"Processing {stock}\")\n",
        "    # for i,(stock,group) in tqdm(enumerate(df.groupby('Stock')),desc=stock):\n",
        "        group = df[df['Stock']==stock].sort_values('Date')\n",
        "        # group= group.sort_values('Date')\n",
        "        group = group.dropna(subset = feature_cols+['Target'])\n",
        "        features = scaler.fit_transform(group[feature_cols])\n",
        "        target = group['Target'].values\n",
        "        x,y = sliding_data(features, target, time_steps)\n",
        "        if x.size == 0:\n",
        "            print(f\"Sample size less than 60 so SKIPPING.....{stock}\")\n",
        "            continue\n",
        "        h5f.create_dataset(f\"x_{stock}\",data=x)\n",
        "        h5f.create_dataset(f\"y_{stock}\", data=y)\n"
      ]
    },
    {
      "cell_type": "markdown",
      "id": "ASuWYPhqwdyo",
      "metadata": {
        "id": "ASuWYPhqwdyo"
      },
      "source": [
        "Loading the H5 file and batchsize"
      ]
    },
    {
      "cell_type": "code",
      "execution_count": null,
      "id": "bd6edad4",
      "metadata": {
        "id": "bd6edad4"
      },
      "outputs": [],
      "source": [
        "x_final = np.concatenate(x_all,axis=0)\n",
        "y_final = np.concatenate(y_all,axis=0)"
      ]
    },
    {
      "cell_type": "code",
      "execution_count": null,
      "id": "f67e8ade",
      "metadata": {
        "id": "f67e8ade"
      },
      "outputs": [],
      "source": [
        "idx = np.random.permutation(len(x_final))\n",
        "x_final,y_final = x_final[idx],y_final[idx]\n",
        "x_final"
      ]
    },
    {
      "cell_type": "code",
      "execution_count": null,
      "id": "6025bec7",
      "metadata": {
        "id": "6025bec7"
      },
      "outputs": [],
      "source": [
        "split = int(0.8 * len(x_final))\n",
        "x_train,x_test = x_final[:split],x_final[split:]\n",
        "y_train,y_test = y_final[:split],y_final[split:]"
      ]
    },
    {
      "cell_type": "markdown",
      "id": "hrF-X7TK0sEs",
      "metadata": {
        "id": "hrF-X7TK0sEs"
      },
      "source": [
        "# Determining the feature shape dynamically"
      ]
    },
    {
      "cell_type": "code",
      "execution_count": null,
      "id": "ovEUGgmEpW1w",
      "metadata": {
        "colab": {
          "base_uri": "https://localhost:8080/"
        },
        "id": "ovEUGgmEpW1w",
        "outputId": "b17e57c4-456e-4a9c-c730-ad3f228672a2"
      },
      "outputs": [
        {
          "name": "stdout",
          "output_type": "stream",
          "text": [
            "/device:GPU:0\n"
          ]
        }
      ],
      "source": [
        "import tensorflow as tf\n",
        "print(tf.test.gpu_device_name())"
      ]
    },
    {
      "cell_type": "code",
      "execution_count": null,
      "id": "blGC2OYKwf4R",
      "metadata": {
        "id": "blGC2OYKwf4R"
      },
      "outputs": [],
      "source": [
        "dataset_path = \"/content/drive/MyDrive/Trading/Stock_dataset/Stock_dataset.h5\"\n",
        "batch_size = 256"
      ]
    },
    {
      "cell_type": "code",
      "execution_count": null,
      "id": "-yCZGMAS8NEJ",
      "metadata": {
        "id": "-yCZGMAS8NEJ"
      },
      "outputs": [],
      "source": [
        "# import os\n",
        "# os.path.getsize(dataset_path)"
      ]
    },
    {
      "cell_type": "code",
      "execution_count": null,
      "id": "uU-dZc0K0yLN",
      "metadata": {
        "id": "uU-dZc0K0yLN"
      },
      "outputs": [],
      "source": [
        "with h5py.File(dataset_path,'r') as h5f:\n",
        "  first_x_key = next(k for k in h5f.keys() if k.startswith('x_'))\n",
        "  time_steps = h5f[first_x_key].shape[1]\n",
        "  feature_dim = h5f[first_x_key].shape[2]\n",
        "  print(\"Feature shape (time_steps, feature_dim):\", time_steps, feature_dim)\n",
        "# time_steps = 60\n",
        "# feature_dim = 316\n",
        "\n"
      ]
    },
    {
      "cell_type": "markdown",
      "id": "cmt3NimB_FlN",
      "metadata": {
        "id": "cmt3NimB_FlN"
      },
      "source": [
        "#Data generator"
      ]
    },
    {
      "cell_type": "code",
      "execution_count": null,
      "id": "bBP2ziWf_JND",
      "metadata": {
        "id": "bBP2ziWf_JND"
      },
      "outputs": [],
      "source": [
        "def data_generator(dataset_path, batchsize):\n",
        "  h5f = h5py.File(dataset_path,'r')\n",
        "  x_keys = [k for k in h5f.keys() if k.startswith('x_')]\n",
        "  while True:\n",
        "    for key in x_keys:\n",
        "      stock_name = key.split('_')[1]\n",
        "      x_data = h5f[key]\n",
        "      y_data = h5f[f\"y_{stock_name}\"]\n",
        "      indices = np.arange(len(x_data))\n",
        "\n",
        "      for i in range(0,len(x_data),batch_size):\n",
        "        batch_idx = indices[i:i+batch_size]\n",
        "        yield x_data[batch_idx], y_data[batch_idx]\n",
        "\n",
        "\n"
      ]
    },
    {
      "cell_type": "markdown",
      "id": "J5vRj8wCCakI",
      "metadata": {
        "id": "J5vRj8wCCakI"
      },
      "source": [
        "#Create tf.data.Dataset with prefetching"
      ]
    },
    {
      "cell_type": "code",
      "execution_count": null,
      "id": "JCKmAlZ9Ccni",
      "metadata": {
        "id": "JCKmAlZ9Ccni"
      },
      "outputs": [],
      "source": [
        "dataset = tf.data.Dataset.from_generator(\n",
        "    lambda : data_generator(dataset_path, batch_size),\n",
        "    output_signature=(\n",
        "        tf.TensorSpec(shape=(None, time_steps, feature_dim),dtype=tf.float32),\n",
        "        tf.TensorSpec(shape=(None,),dtype = tf.float32)\n",
        "    )\n",
        ").prefetch(tf.data.AUTOTUNE)"
      ]
    },
    {
      "cell_type": "code",
      "execution_count": null,
      "id": "qJ8-jp2iHfXt",
      "metadata": {
        "id": "qJ8-jp2iHfXt"
      },
      "outputs": [],
      "source": [
        "steps_per_epoch = 1297 #calculated manually\n",
        "val_steps = 259\n",
        "train_dataset = dataset.take(steps_per_epoch).repeat()\n",
        "val_dataset = dataset.skip(steps_per_epoch).take(val_steps)\n"
      ]
    },
    {
      "cell_type": "markdown",
      "id": "kBxMcRYt_Jt3",
      "metadata": {
        "id": "kBxMcRYt_Jt3"
      },
      "source": [
        "#Defining model\n"
      ]
    },
    {
      "cell_type": "code",
      "execution_count": null,
      "id": "0f5ff378",
      "metadata": {
        "id": "0f5ff378"
      },
      "outputs": [],
      "source": [
        "def build_model(hp):\n",
        "    model = Sequential()\n",
        "    model.add(Bidirectional(LSTM(\n",
        "        units=hp.Int('units_1', 32, 128, step=32),\n",
        "        return_sequences=True,\n",
        "        input_shape=(time_steps, feature_dim)\n",
        "    )))\n",
        "    model.add(Dropout(hp.Float('dropout_1', 0.1, 0.5, step=0.1)))\n",
        "    model.add(Bidirectional(LSTM(units=hp.Int('units_2', 32, 128, step=32))))\n",
        "    model.add(Dropout(hp.Float('dropout_2', 0.1, 0.5, step=0.1)))\n",
        "    model.add(Dense(25))\n",
        "    model.add(Dense(3, activation='softmax'))\n",
        "    model.compile(\n",
        "        optimizer=keras.optimizers.Adam(\n",
        "            learning_rate=hp.Choice('learning_rate', [1e-2, 1e-3, 1e-4])\n",
        "        ),\n",
        "        loss='sparse_categorical_crossentropy',\n",
        "        metrics=['accuracy']\n",
        "    )\n",
        "    return model\n"
      ]
    },
    {
      "cell_type": "code",
      "execution_count": null,
      "id": "fKWeG-_qDM5P",
      "metadata": {
        "colab": {
          "base_uri": "https://localhost:8080/"
        },
        "id": "fKWeG-_qDM5P",
        "outputId": "46a1b976-9709-46b0-f301-eae62a15cb46"
      },
      "outputs": [
        {
          "name": "stdout",
          "output_type": "stream",
          "text": [
            "Trial 1 Complete [02h 49m 15s]\n",
            "val_accuracy: 0.9096090793609619\n",
            "\n",
            "Best val_accuracy So Far: 0.9096090793609619\n",
            "Total elapsed time: 02h 49m 15s\n",
            "\n",
            "Search: Running Trial #2\n",
            "\n",
            "Value             |Best Value So Far |Hyperparameter\n",
            "32                |96                |units_1\n",
            "0.4               |0.4               |dropout_1\n",
            "96                |96                |units_2\n",
            "0.1               |0.4               |dropout_2\n",
            "0.001             |0.0001            |learning_rate\n",
            "\n",
            "Epoch 1/15\n"
          ]
        }
      ],
      "source": [
        "# # Step 1: Perform hyperparameter search\n",
        "# tuner = kt.BayesianOptimization(\n",
        "#     build_model,\n",
        "#     objective='val_accuracy',\n",
        "#     max_trials=3,\n",
        "#     directory='/content/drive/MyDrive/Trading',\n",
        "#     project_name='multi_stock_lstm'\n",
        "# )\n",
        "\n",
        "# stop_early = tf.keras.callbacks.EarlyStopping(monitor='val_loss', patience=3)\n",
        "# tuner.search(\n",
        "#     train_dataset,\n",
        "#     validation_data=val_dataset,\n",
        "#     steps_per_epoch=steps_per_epoch,\n",
        "#     validation_steps=val_steps,\n",
        "#     epochs=15,\n",
        "#     callbacks=[stop_early]\n",
        "# )"
      ]
    },
    {
      "cell_type": "code",
      "execution_count": null,
      "id": "06f349cf",
      "metadata": {
        "id": "06f349cf"
      },
      "outputs": [],
      "source": [
        "# # Step 1: Perform hyperparameter search\n",
        "# tuner = kt.BayesianOptimization(\n",
        "#     build_model,\n",
        "#     objective='val_accuracy',\n",
        "#     max_trials=3,\n",
        "#     directory='multi_stock_tuning',\n",
        "#     project_name='multi_stock_lstm'\n",
        "# )\n",
        "\n",
        "# stop_early = tf.keras.callbacks.EarlyStopping(monitor='val_loss', patience=3)\n",
        "# tuner.search(\n",
        "#     train_dataset,\n",
        "#     validation_data=val_dataset,\n",
        "#     steps_per_epoch=steps_per_epoch,\n",
        "#     validation_steps=val_steps,\n",
        "#     epochs=30,\n",
        "#     callbacks=[stop_early]\n",
        "# )\n",
        "\n",
        "# # Step 2: Retrieve the best hyperparameters\n",
        "# best_hps = tuner.get_best_hyperparameters(1)[0]\n",
        "\n",
        "# # Step 3: Build the model using the best hyperparameters\n",
        "# model = tuner.hypermodel.build(best_hps)\n",
        "\n",
        "# # Step 4: Train the final model\n",
        "# history = model.fit(\n",
        "#     train_dataset,\n",
        "#     validation_data=val_dataset,\n",
        "#     steps_per_epoch=steps_per_epoch,\n",
        "#     validation_steps=val_steps,\n",
        "#     epochs=50,\n",
        "#     callbacks=[stop_early]\n",
        "# )\n",
        "\n",
        "# # # Step 5: Save the trained model\n",
        "# # model.save(\"final_multi_stock_lstm_model.h5\")\n",
        "# model.save(\"final_multi_stock_lstm_model.keras\")\n"
      ]
    },
    {
      "cell_type": "code",
      "execution_count": null,
      "id": "o31fKQ0MzP4a",
      "metadata": {
        "colab": {
          "base_uri": "https://localhost:8080/"
        },
        "id": "o31fKQ0MzP4a",
        "outputId": "e7660a18-a0a3-47b9-8109-8964bf36362b"
      },
      "outputs": [
        {
          "name": "stdout",
          "output_type": "stream",
          "text": [
            "Reloading Tuner from /content/drive/MyDrive/Trading/multi_stock_lstm/tuner0.json\n",
            "Epoch 1/30\n"
          ]
        },
        {
          "name": "stderr",
          "output_type": "stream",
          "text": [
            "/usr/local/lib/python3.11/dist-packages/keras/src/layers/rnn/rnn.py:199: UserWarning: Do not pass an `input_shape`/`input_dim` argument to a layer. When using Sequential models, prefer using an `Input(shape)` object as the first layer in the model instead.\n",
            "  super().__init__(**kwargs)\n"
          ]
        },
        {
          "name": "stdout",
          "output_type": "stream",
          "text": [
            "\u001b[1m1297/1297\u001b[0m \u001b[32m━━━━━━━━━━━━━━━━━━━━\u001b[0m\u001b[37m\u001b[0m \u001b[1m429s\u001b[0m 244ms/step - accuracy: 0.7568 - loss: 0.5186 - val_accuracy: 0.8931 - val_loss: 0.2458\n",
            "Epoch 2/30\n",
            "\u001b[1m1297/1297\u001b[0m \u001b[32m━━━━━━━━━━━━━━━━━━━━\u001b[0m\u001b[37m\u001b[0m \u001b[1m256s\u001b[0m 197ms/step - accuracy: 0.8880 - loss: 0.2661 - val_accuracy: 0.9012 - val_loss: 0.2235\n",
            "Epoch 3/30\n",
            "\u001b[1m1297/1297\u001b[0m \u001b[32m━━━━━━━━━━━━━━━━━━━━\u001b[0m\u001b[37m\u001b[0m \u001b[1m217s\u001b[0m 168ms/step - accuracy: 0.9012 - loss: 0.2326 - val_accuracy: 0.9057 - val_loss: 0.2132\n",
            "Epoch 4/30\n",
            "\u001b[1m1297/1297\u001b[0m \u001b[32m━━━━━━━━━━━━━━━━━━━━\u001b[0m\u001b[37m\u001b[0m \u001b[1m212s\u001b[0m 163ms/step - accuracy: 0.9087 - loss: 0.2142 - val_accuracy: 0.9110 - val_loss: 0.2018\n",
            "Epoch 5/30\n",
            "\u001b[1m1297/1297\u001b[0m \u001b[32m━━━━━━━━━━━━━━━━━━━━\u001b[0m\u001b[37m\u001b[0m \u001b[1m218s\u001b[0m 168ms/step - accuracy: 0.9148 - loss: 0.1999 - val_accuracy: 0.9136 - val_loss: 0.1952\n",
            "Epoch 6/30\n",
            "\u001b[1m1297/1297\u001b[0m \u001b[32m━━━━━━━━━━━━━━━━━━━━\u001b[0m\u001b[37m\u001b[0m \u001b[1m252s\u001b[0m 194ms/step - accuracy: 0.9177 - loss: 0.1906 - val_accuracy: 0.9165 - val_loss: 0.1892\n",
            "Epoch 7/30\n",
            "\u001b[1m1297/1297\u001b[0m \u001b[32m━━━━━━━━━━━━━━━━━━━━\u001b[0m\u001b[37m\u001b[0m \u001b[1m203s\u001b[0m 156ms/step - accuracy: 0.9218 - loss: 0.1825 - val_accuracy: 0.9169 - val_loss: 0.1900\n",
            "Epoch 8/30\n",
            "\u001b[1m1297/1297\u001b[0m \u001b[32m━━━━━━━━━━━━━━━━━━━━\u001b[0m\u001b[37m\u001b[0m \u001b[1m206s\u001b[0m 159ms/step - accuracy: 0.9241 - loss: 0.1771 - val_accuracy: 0.9193 - val_loss: 0.1858\n",
            "Epoch 9/30\n",
            "\u001b[1m1297/1297\u001b[0m \u001b[32m━━━━━━━━━━━━━━━━━━━━\u001b[0m\u001b[37m\u001b[0m \u001b[1m206s\u001b[0m 159ms/step - accuracy: 0.9264 - loss: 0.1725 - val_accuracy: 0.9230 - val_loss: 0.1796\n",
            "Epoch 10/30\n",
            "\u001b[1m1297/1297\u001b[0m \u001b[32m━━━━━━━━━━━━━━━━━━━━\u001b[0m\u001b[37m\u001b[0m \u001b[1m258s\u001b[0m 199ms/step - accuracy: 0.9285 - loss: 0.1674 - val_accuracy: 0.9247 - val_loss: 0.1748\n",
            "Epoch 11/30\n",
            "\u001b[1m1297/1297\u001b[0m \u001b[32m━━━━━━━━━━━━━━━━━━━━\u001b[0m\u001b[37m\u001b[0m \u001b[1m203s\u001b[0m 157ms/step - accuracy: 0.9304 - loss: 0.1631 - val_accuracy: 0.9261 - val_loss: 0.1717\n",
            "Epoch 12/30\n",
            "\u001b[1m1297/1297\u001b[0m \u001b[32m━━━━━━━━━━━━━━━━━━━━\u001b[0m\u001b[37m\u001b[0m \u001b[1m206s\u001b[0m 159ms/step - accuracy: 0.9312 - loss: 0.1610 - val_accuracy: 0.9310 - val_loss: 0.1614\n",
            "Epoch 13/30\n",
            "\u001b[1m1297/1297\u001b[0m \u001b[32m━━━━━━━━━━━━━━━━━━━━\u001b[0m\u001b[37m\u001b[0m \u001b[1m207s\u001b[0m 160ms/step - accuracy: 0.9326 - loss: 0.1572 - val_accuracy: 0.9295 - val_loss: 0.1657\n",
            "Epoch 14/30\n",
            "\u001b[1m1297/1297\u001b[0m \u001b[32m━━━━━━━━━━━━━━━━━━━━\u001b[0m\u001b[37m\u001b[0m \u001b[1m258s\u001b[0m 199ms/step - accuracy: 0.9342 - loss: 0.1538 - val_accuracy: 0.9337 - val_loss: 0.1561\n",
            "Epoch 15/30\n",
            "\u001b[1m1297/1297\u001b[0m \u001b[32m━━━━━━━━━━━━━━━━━━━━\u001b[0m\u001b[37m\u001b[0m \u001b[1m210s\u001b[0m 162ms/step - accuracy: 0.9346 - loss: 0.1523 - val_accuracy: 0.9348 - val_loss: 0.1511\n",
            "Epoch 16/30\n",
            "\u001b[1m1297/1297\u001b[0m \u001b[32m━━━━━━━━━━━━━━━━━━━━\u001b[0m\u001b[37m\u001b[0m \u001b[1m261s\u001b[0m 201ms/step - accuracy: 0.9366 - loss: 0.1490 - val_accuracy: 0.9359 - val_loss: 0.1487\n",
            "Epoch 17/30\n",
            "\u001b[1m1297/1297\u001b[0m \u001b[32m━━━━━━━━━━━━━━━━━━━━\u001b[0m\u001b[37m\u001b[0m \u001b[1m216s\u001b[0m 167ms/step - accuracy: 0.9377 - loss: 0.1468 - val_accuracy: 0.9371 - val_loss: 0.1448\n",
            "Epoch 18/30\n",
            "\u001b[1m1297/1297\u001b[0m \u001b[32m━━━━━━━━━━━━━━━━━━━━\u001b[0m\u001b[37m\u001b[0m \u001b[1m254s\u001b[0m 196ms/step - accuracy: 0.9382 - loss: 0.1445 - val_accuracy: 0.9403 - val_loss: 0.1384\n",
            "Epoch 19/30\n",
            "\u001b[1m1297/1297\u001b[0m \u001b[32m━━━━━━━━━━━━━━━━━━━━\u001b[0m\u001b[37m\u001b[0m \u001b[1m212s\u001b[0m 164ms/step - accuracy: 0.9401 - loss: 0.1401 - val_accuracy: 0.9407 - val_loss: 0.1372\n",
            "Epoch 20/30\n",
            "\u001b[1m1297/1297\u001b[0m \u001b[32m━━━━━━━━━━━━━━━━━━━━\u001b[0m\u001b[37m\u001b[0m \u001b[1m257s\u001b[0m 199ms/step - accuracy: 0.9416 - loss: 0.1381 - val_accuracy: 0.9420 - val_loss: 0.1330\n",
            "Epoch 21/30\n",
            "\u001b[1m1297/1297\u001b[0m \u001b[32m━━━━━━━━━━━━━━━━━━━━\u001b[0m\u001b[37m\u001b[0m \u001b[1m209s\u001b[0m 161ms/step - accuracy: 0.9423 - loss: 0.1363 - val_accuracy: 0.9442 - val_loss: 0.1279\n",
            "Epoch 22/30\n",
            "\u001b[1m1297/1297\u001b[0m \u001b[32m━━━━━━━━━━━━━━━━━━━━\u001b[0m\u001b[37m\u001b[0m \u001b[1m214s\u001b[0m 165ms/step - accuracy: 0.9433 - loss: 0.1332 - val_accuracy: 0.9456 - val_loss: 0.1246\n",
            "Epoch 23/30\n",
            "\u001b[1m1297/1297\u001b[0m \u001b[32m━━━━━━━━━━━━━━━━━━━━\u001b[0m\u001b[37m\u001b[0m \u001b[1m216s\u001b[0m 166ms/step - accuracy: 0.9443 - loss: 0.1308 - val_accuracy: 0.9455 - val_loss: 0.1244\n",
            "Epoch 24/30\n",
            "\u001b[1m1297/1297\u001b[0m \u001b[32m━━━━━━━━━━━━━━━━━━━━\u001b[0m\u001b[37m\u001b[0m \u001b[1m215s\u001b[0m 166ms/step - accuracy: 0.9447 - loss: 0.1303 - val_accuracy: 0.9470 - val_loss: 0.1205\n",
            "Epoch 25/30\n",
            "\u001b[1m1297/1297\u001b[0m \u001b[32m━━━━━━━━━━━━━━━━━━━━\u001b[0m\u001b[37m\u001b[0m \u001b[1m213s\u001b[0m 164ms/step - accuracy: 0.9460 - loss: 0.1277 - val_accuracy: 0.9486 - val_loss: 0.1174\n",
            "Epoch 26/30\n",
            "\u001b[1m1297/1297\u001b[0m \u001b[32m━━━━━━━━━━━━━━━━━━━━\u001b[0m\u001b[37m\u001b[0m \u001b[1m255s\u001b[0m 197ms/step - accuracy: 0.9466 - loss: 0.1266 - val_accuracy: 0.9486 - val_loss: 0.1171\n",
            "Epoch 27/30\n",
            "\u001b[1m1297/1297\u001b[0m \u001b[32m━━━━━━━━━━━━━━━━━━━━\u001b[0m\u001b[37m\u001b[0m \u001b[1m263s\u001b[0m 203ms/step - accuracy: 0.9473 - loss: 0.1240 - val_accuracy: 0.9490 - val_loss: 0.1158\n",
            "Epoch 28/30\n",
            "\u001b[1m1297/1297\u001b[0m \u001b[32m━━━━━━━━━━━━━━━━━━━━\u001b[0m\u001b[37m\u001b[0m \u001b[1m211s\u001b[0m 163ms/step - accuracy: 0.9481 - loss: 0.1226 - val_accuracy: 0.9511 - val_loss: 0.1128\n",
            "Epoch 29/30\n",
            "\u001b[1m1297/1297\u001b[0m \u001b[32m━━━━━━━━━━━━━━━━━━━━\u001b[0m\u001b[37m\u001b[0m \u001b[1m214s\u001b[0m 165ms/step - accuracy: 0.9481 - loss: 0.1214 - val_accuracy: 0.9515 - val_loss: 0.1114\n",
            "Epoch 30/30\n",
            "\u001b[1m1297/1297\u001b[0m \u001b[32m━━━━━━━━━━━━━━━━━━━━\u001b[0m\u001b[37m\u001b[0m \u001b[1m255s\u001b[0m 197ms/step - accuracy: 0.9495 - loss: 0.1188 - val_accuracy: 0.9523 - val_loss: 0.1111\n"
          ]
        }
      ],
      "source": [
        "tuner = kt.BayesianOptimization(\n",
        "    build_model,\n",
        "    objective='val_accuracy',\n",
        "    max_trials=4,\n",
        "    directory='/content/drive/MyDrive/Trading',\n",
        "    project_name='multi_stock_lstm'\n",
        ")\n",
        "stop_early = tf.keras.callbacks.EarlyStopping(monitor='val_loss', patience=3)\n",
        "best_hps = tuner.get_best_hyperparameters(1)[0]\n",
        "\n",
        "# Step 3: Build the model using the best hyperparameters\n",
        "model = tuner.hypermodel.build(best_hps)\n",
        "\n",
        "# Step 4: Train the final model\n",
        "history = model.fit(\n",
        "    train_dataset,\n",
        "    validation_data=val_dataset,\n",
        "    steps_per_epoch=steps_per_epoch,\n",
        "    validation_steps=val_steps,\n",
        "    epochs=30,\n",
        "    callbacks=[stop_early]\n",
        ")\n",
        "\n",
        "# # Step 5: Save the trained model\n",
        "# model.save(\"final_multi_stock_lstm_model.h5\")\n",
        "model.save(\"/content/drive/MyDrive/Trading/Bidirectional-final_multi_stock_lstm_model.keras\")"
      ]
    },
    {
      "cell_type": "markdown",
      "id": "R64uAorAJjIT",
      "metadata": {
        "id": "R64uAorAJjIT"
      },
      "source": [
        "# # Step 5: Save the trained model"
      ]
    },
    {
      "cell_type": "code",
      "execution_count": null,
      "id": "HALBo9w3rJmS",
      "metadata": {
        "colab": {
          "base_uri": "https://localhost:8080/"
        },
        "id": "HALBo9w3rJmS",
        "outputId": "44b4a628-3cfb-479e-de9f-575f24f4f2a9"
      },
      "outputs": [
        {
          "name": "stdout",
          "output_type": "stream",
          "text": [
            "Num GPUs Available: 1\n"
          ]
        }
      ],
      "source": [
        "import tensorflow as tf\n",
        "print(\"Num GPUs Available:\", len(tf.config.list_physical_devices('GPU')))\n"
      ]
    },
    {
      "cell_type": "code",
      "execution_count": null,
      "id": "f29d5a20",
      "metadata": {
        "id": "f29d5a20"
      },
      "outputs": [],
      "source": [
        "model.save(\"final_multi_stock_lstm_model.keras\")"
      ]
    },
    {
      "cell_type": "code",
      "execution_count": null,
      "id": "f17de28e",
      "metadata": {
        "colab": {
          "base_uri": "https://localhost:8080/",
          "height": 492
        },
        "id": "f17de28e",
        "outputId": "0e8ca455-08d8-4777-ebb1-53cac9aabbc0"
      },
      "outputs": [
        {
          "data": {
            "image/png": "[encoded data removed]",
            "text/plain": [
              "<Figure size 1400x500 with 2 Axes>"
            ]
          },
          "metadata": {},
          "output_type": "display_data"
        }
      ],
      "source": [
        "# ---------------------- 8. Training Curve ----------------------\n",
        "plt.figure(figsize=(14, 5))\n",
        "plt.subplot(1, 2, 1)\n",
        "plt.plot(history.history['accuracy'], label='Train Acc')\n",
        "plt.plot(history.history['val_accuracy'], label='Val Acc')\n",
        "plt.legend()\n",
        "plt.title(\"Accuracy\")\n",
        "\n",
        "plt.subplot(1, 2, 2)\n",
        "plt.plot(history.history['loss'], label='Train Loss')\n",
        "plt.plot(history.history['val_loss'], label='Val Loss')\n",
        "plt.legend()\n",
        "plt.title(\"Loss\")\n",
        "plt.tight_layout()\n",
        "plt.show()\n"
      ]
    },
    {
      "cell_type": "markdown",
      "id": "np0HZcZ9J_5q",
      "metadata": {
        "id": "np0HZcZ9J_5q"
      },
      "source": [
        "#Testing"
      ]
    },
    {
      "cell_type": "code",
      "execution_count": null,
      "id": "uBz03ZN_J_Xw",
      "metadata": {
        "colab": {
          "base_uri": "https://localhost:8080/",
          "height": 207
        },
        "id": "uBz03ZN_J_Xw",
        "outputId": "537af133-5193-44b0-c952-2806f32b1826"
      },
      "outputs": [
        {
          "ename": "NameError",
          "evalue": "name 'x_test' is not defined",
          "output_type": "error",
          "traceback": [
            "\u001b[0;31m---------------------------------------------------------------------------\u001b[0m",
            "\u001b[0;31mNameError\u001b[0m                                 Traceback (most recent call last)",
            "\u001b[0;32m/tmp/ipython-input-3646919025.py\u001b[0m in \u001b[0;36m<cell line: 0>\u001b[0;34m()\u001b[0m\n\u001b[0;32m----> 1\u001b[0;31m \u001b[0mtest_loss\u001b[0m\u001b[0;34m,\u001b[0m \u001b[0mtest_acc\u001b[0m \u001b[0;34m=\u001b[0m \u001b[0mmodel\u001b[0m\u001b[0;34m.\u001b[0m\u001b[0mevaluate\u001b[0m\u001b[0;34m(\u001b[0m\u001b[0mx_test\u001b[0m\u001b[0;34m,\u001b[0m \u001b[0my_test\u001b[0m\u001b[0;34m)\u001b[0m\u001b[0;34m\u001b[0m\u001b[0;34m\u001b[0m\u001b[0m\n\u001b[0m\u001b[1;32m      2\u001b[0m \u001b[0mprint\u001b[0m\u001b[0;34m(\u001b[0m\u001b[0;34mf\"Test Accuracy: {test_acc:.4f}, Loss: {test_loss:.4f}\"\u001b[0m\u001b[0;34m)\u001b[0m\u001b[0;34m\u001b[0m\u001b[0;34m\u001b[0m\u001b[0m\n\u001b[1;32m      3\u001b[0m \u001b[0;34m\u001b[0m\u001b[0m\n\u001b[1;32m      4\u001b[0m \u001b[0my_pred_probs\u001b[0m \u001b[0;34m=\u001b[0m \u001b[0mmodel\u001b[0m\u001b[0;34m.\u001b[0m\u001b[0mpredict\u001b[0m\u001b[0;34m(\u001b[0m\u001b[0mx_test\u001b[0m\u001b[0;34m)\u001b[0m\u001b[0;34m\u001b[0m\u001b[0;34m\u001b[0m\u001b[0m\n\u001b[1;32m      5\u001b[0m \u001b[0my_pred\u001b[0m \u001b[0;34m=\u001b[0m \u001b[0mnp\u001b[0m\u001b[0;34m.\u001b[0m\u001b[0margmax\u001b[0m\u001b[0;34m(\u001b[0m\u001b[0my_pred_probs\u001b[0m\u001b[0;34m,\u001b[0m \u001b[0maxis\u001b[0m\u001b[0;34m=\u001b[0m\u001b[0;36m1\u001b[0m\u001b[0;34m)\u001b[0m\u001b[0;34m\u001b[0m\u001b[0;34m\u001b[0m\u001b[0m\n",
            "\u001b[0;31mNameError\u001b[0m: name 'x_test' is not defined"
          ]
        }
      ],
      "source": [
        "test_loss, test_acc = model.evaluate(x_test, y_test)\n",
        "print(f\"Test Accuracy: {test_acc:.4f}, Loss: {test_loss:.4f}\")\n",
        "\n",
        "y_pred_probs = model.predict(x_test)\n",
        "y_pred = np.argmax(y_pred_probs, axis=1)\n",
        "\n",
        "print(\"\\nClassification Report:\")\n",
        "print(classification_report(y_test, y_pred, target_names=['Sell (0)', 'Buy (2)']))\n",
        "\n",
        "cm = confusion_matrix(y_test, y_pred)\n",
        "plt.figure(figsize=(8, 6))\n",
        "sns.heatmap(cm, annot=True, fmt='d', cmap='Blues', xticklabels=['Sell', 'Buy'], yticklabels=['Sell', 'Buy'])\n",
        "plt.xlabel(\"Predicted\")\n",
        "plt.ylabel(\"Actual\")\n",
        "plt.title(\"Confusion Matrix\")\n",
        "plt.show()\n"
      ]
    },
    {
      "cell_type": "markdown",
      "id": "ccb50d36",
      "metadata": {
        "id": "ccb50d36"
      },
      "source": []
    },
    {
      "cell_type": "markdown",
      "id": "23c24822",
      "metadata": {
        "id": "23c24822"
      },
      "source": []
    },
    {
      "cell_type": "markdown",
      "id": "ab66ef28",
      "metadata": {
        "id": "ab66ef28"
      },
      "source": []
    },
    {
      "cell_type": "markdown",
      "id": "bafdfde4",
      "metadata": {
        "id": "bafdfde4"
      },
      "source": []
    },
    {
      "cell_type": "markdown",
      "id": "67a164fe",
      "metadata": {
        "id": "67a164fe"
      },
      "source": []
    },
    {
      "cell_type": "markdown",
      "id": "5fa39b8f",
      "metadata": {
        "id": "5fa39b8f"
      },
      "source": []
    },
    {
      "cell_type": "markdown",
      "id": "976de7c4",
      "metadata": {
        "id": "976de7c4"
      },
      "source": []
    },
    {
      "cell_type": "markdown",
      "id": "5c766784",
      "metadata": {
        "id": "5c766784"
      },
      "source": []
    },
    {
      "cell_type": "markdown",
      "id": "00c2ff10",
      "metadata": {
        "id": "00c2ff10"
      },
      "source": []
    }
  ],
  "metadata": {
    "accelerator": "GPU",
    "colab": {
      "gpuType": "T4",
      "provenance": []
    },
    "kernelspec": {
      "display_name": ".venv",
      "language": "python",
      "name": "python3"
    },
    "language_info": {
      "codemirror_mode": {
        "name": "ipython",
        "version": 3
      },
      "file_extension": ".py",
      "mimetype": "text/x-python",
      "name": "python",
      "nbconvert_exporter": "python",
      "pygments_lexer": "ipython3",
      "version": "3.12.3"
    }
  },
  "nbformat": 4,
  "nbformat_minor": 5
}
