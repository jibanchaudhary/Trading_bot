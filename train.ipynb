{
 "cells": [
  {
   "cell_type": "code",
   "execution_count": null,
   "id": "c09a2747",
   "metadata": {},
   "outputs": [],
   "source": [
    "import numpy as np\n",
    "import pandas as pd\n",
    "import yfinance as yf\n",
    "import pandas_ta as ta\n",
    "from sklearn.preprocessing import MinMaxScaler\n",
    "from sklearn.metrics import classification_report, confusion_matrix\n",
    "from tensorflow import keras\n",
    "from tensorflow.keras.models import Sequential\n",
    "from tensorflow.keras.layers import LSTM,Dense,Dropout\n",
    "import matplotlib.pyplot as plt\n",
    "import keras_tuner as kt\n",
    "import tensorflow as tf\n",
    "import seaborn as sns\n"
   ]
  },
  {
   "cell_type": "markdown",
   "id": "8d451bdc",
   "metadata": {},
   "source": [
    "# Loading CSV data\n"
   ]
  },
  {
   "cell_type": "code",
   "execution_count": null,
   "id": "ddddf750",
   "metadata": {},
   "outputs": [],
   "source": [
    "time_steps = 60"
   ]
  },
  {
   "cell_type": "code",
   "execution_count": null,
   "id": "c6358526",
   "metadata": {},
   "outputs": [],
   "source": [
    "csv_path = \"/Users/jibanchaudhary/Documents/Projects/trading_project/merged_data.csv\"\n",
    "\n",
    "print(\"Loading csv data....\")\n",
    "\n",
    "df = pd.read_csv(csv_path)\n",
    "df.sort_values(['Stock','Date'], inplace=True)\n",
    "df.reset_index(drop=True, inplace=True)\n",
    "df[:10]"
   ]
  },
  {
   "cell_type": "markdown",
   "id": "077fe34d",
   "metadata": {},
   "source": [
    "#Encoding stock identity"
   ]
  },
  {
   "cell_type": "code",
   "execution_count": null,
   "id": "ae4bc5a1",
   "metadata": {},
   "outputs": [],
   "source": [
    "# df['stock_id'] = df['Stock'].astype('category').cat.codes\n",
    "stock_dummies = pd.get_dummies(df['Stock'], prefix='Stock')\n",
    "df = pd.concat([df, stock_dummies],axis=1)\n",
    "\n"
   ]
  },
  {
   "cell_type": "markdown",
   "id": "5448093d",
   "metadata": {},
   "source": [
    "# Technical indicators"
   ]
  },
  {
   "cell_type": "code",
   "execution_count": null,
   "id": "06d922dd",
   "metadata": {},
   "outputs": [],
   "source": [
    "df_list = []\n",
    "for stock, group in df.groupby('Stock'):\n",
    "    group = group.copy()\n",
    "    group.ta.sma(length=20, append=True)\n",
    "    group.ta.ema(length=50, append=True)\n",
    "    group.ta.rsi(length=14, append=True)\n",
    "    group.ta.macd(fast=12, slow=26, signal=9, append=True)\n",
    "    group.ta.bbands(length=20, append=True)\n",
    "\n",
    "    group['Signal'] = 0\n",
    "    group.loc[group['SMA_20'] > group['EMA_50'], 'Signal'] = 2\n",
    "    group.loc[group['SMA_20'] < group['EMA_50'], 'Signal'] = 0\n",
    "    group['Signal'] = np.where((group['Signal'] == 0) & (group['Signal'].shift(1) != 0), 1, group['Signal'])\n",
    "    group['Signal'] = group['Signal'].replace(to_replace=0, method='ffill')\n",
    "    group.loc[group['Signal'] == 0, 'Signal'] = 1\n",
    "\n",
    "    group['Target'] = group['Signal'].shift(-1)\n",
    "    df_list.append(group)\n",
    "\n",
    "df = pd.concat(df_list)\n",
    "df.dropna(inplace=True)"
   ]
  },
  {
   "cell_type": "code",
   "execution_count": null,
   "id": "4b452e61",
   "metadata": {},
   "outputs": [],
   "source": [
    "df_list"
   ]
  },
  {
   "cell_type": "code",
   "execution_count": null,
   "id": "ae5e152d",
   "metadata": {},
   "outputs": [],
   "source": [
    "stock_one_hot_cols = [col for col in df.columns if col.startswith('Stock_')]\n",
    "feature_cols = ['Close', 'High', 'Low', 'Open'] + stock_one_hot_cols + [\n",
    "    'SMA_20', 'EMA_50', 'RSI_14',\n",
    "    'MACD_12_26_9', 'MACDs_12_26_9', 'MACDh_12_26_9',\n",
    "    'BBL_20_2.0', 'BBM_20_2.0', 'BBU_20_2.0', 'BBB_20_2.0', 'BBP_20_2.0']\n",
    "\n",
    "scaler = MinMaxScaler()\n",
    "x_all,y_all = [],[]"
   ]
  },
  {
   "cell_type": "markdown",
   "id": "c60a448e",
   "metadata": {},
   "source": [
    "# Sliding window for 60 days\n"
   ]
  },
  {
   "cell_type": "code",
   "execution_count": null,
   "id": "15b17c0c",
   "metadata": {},
   "outputs": [],
   "source": [
    "def sliding_data(data, target, time_steps=60):\n",
    "    x,y = [],[]\n",
    "    for i in range(len(data)-time_steps):\n",
    "        x.append(data[i:i+time_steps])\n",
    "        y.append(target[i+time_steps])\n",
    "    return np.array(x), np.array(y)"
   ]
  },
  {
   "cell_type": "code",
   "execution_count": null,
   "id": "ed27c5c1",
   "metadata": {},
   "outputs": [],
   "source": [
    "for _, group in df.groupby('Stock'):\n",
    "    group= group.sort_values('Date')\n",
    "    group = group.dropna(subset = feature_cols+['Target'])\n",
    "    features = scaler.fit_transform(group[feature_cols])\n",
    "    target = group['Target'].values\n",
    "    x,y = sliding_data(features, target, time_steps)\n",
    "    x_all.append(x)\n",
    "    y_all.append(y)"
   ]
  },
  {
   "cell_type": "code",
   "execution_count": null,
   "id": "bd6edad4",
   "metadata": {},
   "outputs": [],
   "source": [
    "x_final = np.concatenate(x_all,axis=0)\n",
    "y_final = np.concatenate(y_all,axis=0)"
   ]
  },
  {
   "cell_type": "code",
   "execution_count": null,
   "id": "f67e8ade",
   "metadata": {},
   "outputs": [],
   "source": [
    "idx = np.random.permutation(len(x_final))\n",
    "x_final,y_final = x_final[idx],y_final[idx]\n",
    "x_final"
   ]
  },
  {
   "cell_type": "code",
   "execution_count": null,
   "id": "6025bec7",
   "metadata": {},
   "outputs": [],
   "source": [
    "split = int(0.8 * len(x_final))\n",
    "x_train,x_test = x_final[:split],x_final[split:]\n",
    "y_train,y_test = y_final[:split],y_final[split:]"
   ]
  },
  {
   "cell_type": "code",
   "execution_count": null,
   "id": "0f5ff378",
   "metadata": {},
   "outputs": [],
   "source": [
    "def build_model(hp):\n",
    "    model = Sequential()\n",
    "    model.add(LSTM(\n",
    "        units=hp.Int('units_1', 32, 128, step=32),\n",
    "        return_sequences=True,\n",
    "        input_shape=(x_train.shape[1], x_train.shape[2])\n",
    "    ))\n",
    "    model.add(Dropout(hp.Float('dropout_1', 0.1, 0.5, step=0.1)))\n",
    "    model.add(LSTM(units=hp.Int('units_2', 32, 128, step=32)))\n",
    "    model.add(Dropout(hp.Float('dropout_2', 0.1, 0.5, step=0.1)))\n",
    "    model.add(Dense(25))\n",
    "    model.add(Dense(3, activation='softmax'))\n",
    "    model.compile(\n",
    "        optimizer=keras.optimizers.Adam(\n",
    "            learning_rate=hp.Choice('learning_rate', [1e-2, 1e-3, 1e-4])\n",
    "        ),\n",
    "        loss='sparse_categorical_crossentropy',\n",
    "        metrics=['accuracy']\n",
    "    )\n",
    "    return model\n"
   ]
  },
  {
   "cell_type": "code",
   "execution_count": null,
   "id": "06f349cf",
   "metadata": {},
   "outputs": [],
   "source": [
    "# Step 1: Perform hyperparameter search\n",
    "tuner = kt.BayesianOptimization(\n",
    "    build_model,\n",
    "    objective='val_accuracy',\n",
    "    max_trials=3,\n",
    "    directory='multi_stock_tuning',\n",
    "    project_name='multi_stock_lstm'\n",
    ")\n",
    "\n",
    "stop_early = tf.keras.callbacks.EarlyStopping(monitor='val_loss', patience=3)\n",
    "tuner.search(x_train, y_train, epochs=30, validation_split=0.2, callbacks=[stop_early])\n",
    "\n",
    "# Step 2: Retrieve the best hyperparameters\n",
    "best_hps = tuner.get_best_hyperparameters(1)[0]\n",
    "\n",
    "# Step 3: Build the model using the best hyperparameters\n",
    "model = tuner.hypermodel.build(best_hps)\n",
    "\n",
    "# Step 4: Train the final model\n",
    "history = model.fit(x_train, y_train, epochs=50, validation_split=0.2, callbacks=[stop_early])\n",
    "\n",
    "# Step 5: Save the trained model\n",
    "model.save(\"final_multi_stock_lstm_model.h5\")\n"
   ]
  },
  {
   "cell_type": "code",
   "execution_count": null,
   "id": "f29d5a20",
   "metadata": {},
   "outputs": [],
   "source": [
    "model.save(\"final_multi_stock_lstm_model.keras\")"
   ]
  },
  {
   "cell_type": "code",
   "execution_count": null,
   "id": "f17de28e",
   "metadata": {},
   "outputs": [],
   "source": [
    "test_loss, test_acc = model.evaluate(x_test, y_test)\n",
    "print(f\"Test Accuracy: {test_acc:.4f}, Loss: {test_loss:.4f}\")\n",
    "\n",
    "y_pred_probs = model.predict(x_test)\n",
    "y_pred = np.argmax(y_pred_probs, axis=1)\n",
    "\n",
    "print(\"\\nClassification Report:\")\n",
    "print(classification_report(y_test, y_pred, target_names=['Sell (0)', 'Buy (2)']))\n",
    "\n",
    "cm = confusion_matrix(y_test, y_pred)\n",
    "plt.figure(figsize=(8, 6))\n",
    "sns.heatmap(cm, annot=True, fmt='d', cmap='Blues', xticklabels=['Sell', 'Buy'], yticklabels=['Sell', 'Buy'])\n",
    "plt.xlabel(\"Predicted\")\n",
    "plt.ylabel(\"Actual\")\n",
    "plt.title(\"Confusion Matrix\")\n",
    "plt.show()\n",
    "\n",
    "# ---------------------- 8. Training Curve ----------------------\n",
    "plt.figure(figsize=(14, 5))\n",
    "plt.subplot(1, 2, 1)\n",
    "plt.plot(history.history['accuracy'], label='Train Acc')\n",
    "plt.plot(history.history['val_accuracy'], label='Val Acc')\n",
    "plt.legend()\n",
    "plt.title(\"Accuracy\")\n",
    "\n",
    "plt.subplot(1, 2, 2)\n",
    "plt.plot(history.history['loss'], label='Train Loss')\n",
    "plt.plot(history.history['val_loss'], label='Val Loss')\n",
    "plt.legend()\n",
    "plt.title(\"Loss\")\n",
    "plt.tight_layout()\n",
    "plt.show()\n"
   ]
  },
  {
   "cell_type": "markdown",
   "id": "ccb50d36",
   "metadata": {},
   "source": []
  }
 ],
 "metadata": {
  "kernelspec": {
   "display_name": "venv",
   "language": "python",
   "name": "python3"
  },
  "language_info": {
   "codemirror_mode": {
    "name": "ipython",
    "version": 3
   },
   "file_extension": ".py",
   "mimetype": "text/x-python",
   "name": "python",
   "nbconvert_exporter": "python",
   "pygments_lexer": "ipython3",
   "version": "3.12.3"
  }
 },
 "nbformat": 4,
 "nbformat_minor": 5
}
